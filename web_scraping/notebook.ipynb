{
 "metadata": {
  "language_info": {
   "codemirror_mode": {
    "name": "ipython",
    "version": 3
   },
   "file_extension": ".py",
   "mimetype": "text/x-python",
   "name": "python",
   "nbconvert_exporter": "python",
   "pygments_lexer": "ipython3",
   "version": "3.8.10"
  },
  "orig_nbformat": 4,
  "kernelspec": {
   "name": "python3",
   "display_name": "Python 3.8.10 64-bit ('pltz_ds': conda)"
  },
  "interpreter": {
   "hash": "7548efba2d9cf051069d3fd5d0565922766956e3581b055a06bf433ce8954d79"
  }
 },
 "nbformat": 4,
 "nbformat_minor": 2,
 "cells": [
  {
   "source": [
    "## First steps"
   ],
   "cell_type": "markdown",
   "metadata": {}
  },
  {
   "cell_type": "code",
   "execution_count": 1,
   "metadata": {},
   "outputs": [],
   "source": [
    "import requests\n",
    "import bs4\n",
    "\n",
    "response = requests.get('https://www.platzi.com')"
   ]
  },
  {
   "cell_type": "code",
   "execution_count": 2,
   "metadata": {},
   "outputs": [],
   "source": [
    "soup = bs4.BeautifulSoup(response.text, 'html.parser')"
   ]
  },
  {
   "cell_type": "code",
   "execution_count": 3,
   "metadata": {},
   "outputs": [
    {
     "output_type": "stream",
     "name": "stdout",
     "text": [
      "Desarrollo Web: /web/\nJavaScript: /escuela-javascript/\nInglés: /idioma-ingles/\nMarketing Digital: /marketing-digital/\nPublicidad Digital: /publicidad/\nStartups: /startups/\nPeriodismo Digital: /periodismo-digital/\nProduct Design: /diseno-producto/\nVideojuegos: /videojuegos/\nBusiness Management: /negocios/\nFinanzas e Inversiones: /finanzas/\nE-Commerce y Negocios Digitales: /ecommerce/\nMatemáticas: /matematicas/\nCloud Computing con Azure: /azure/\nDiseño Gráfico: /diseno-grafico/\nData Science: /datos/\nHabilidades Blandas: /habilidades-blandas/\nProducción Audiovisual: /produccion-video/\nProgramación y Desarrollo de Software: /software/\nBlockchain y Criptomonedas: /blockchain-criptomonedas/\n"
     ]
    }
   ],
   "source": [
    "for school in soup.select('.SchoolsList-school'):\n",
    "    school_name = school.findChild('strong').text\n",
    "    school_link = school['href']\n",
    "    print(f'{school_name}: {school_link}')"
   ]
  },
  {
   "source": [
    "## News scraping\n",
    "Goal: Obtain the title and summary of a news list from a local news site."
   ],
   "cell_type": "markdown",
   "metadata": {}
  },
  {
   "cell_type": "code",
   "execution_count": 4,
   "metadata": {},
   "outputs": [],
   "source": [
    "URL = 'https://www.vanguardia.com'\n",
    "response = requests.get(URL)\n",
    "response.encoding = 'utf-8'\n",
    "soup = bs4.BeautifulSoup(response.text, 'html.parser')"
   ]
  },
  {
   "cell_type": "code",
   "execution_count": 5,
   "metadata": {},
   "outputs": [],
   "source": [
    "links = []\n",
    "for notice in soup.select('.block-right'):\n",
    "    try:        \n",
    "        links.append(notice.findChildren('a')[-1]['href'])\n",
    "    except IndexError as e:\n",
    "        continue"
   ]
  },
  {
   "cell_type": "code",
   "execution_count": 6,
   "metadata": {},
   "outputs": [
    {
     "output_type": "stream",
     "name": "stdout",
     "text": [
      "Más de 1.100 menores tienen el COVID activo en Santander\n",
      " En entrevista con Vanguardia un pediatra infectólogo explicó cómo se manifiesta este virus en los niños, por qué algunos llegan a la UCI y cuál es el síndrome que los está atacando varias semanas después de la infección. \n",
      "          \n",
      "Proyecto vial Valle de San José - Ocamonte no llegará los 3,5 kilómetros\n",
      " La obra que inicialmente tenía un alcance de 3,5 kilómetros, apenas alcanzará los 2,7 kilómetros aproximadamente. En la última visita hecha esta semana por el personero local, Jaime Alexander Hernández, se le confirmó que no se llegará a la longitud prevista.\n",
      "          \n",
      "Egan Bernal nos da un ‘Giro’ de Esperanza\n",
      " En momentos sociales difíciles para Colombia, el ciclista Egan Bernal manda una sonrisa a sus compatriotas y aporta más luz a ese glorioso pasado con el quinto gran título nacional en las grandes, y el segundo en el Giro.\n",
      "          \n",
      "Fiscalía imputará cargos a Fajardo por contrato con Corpbanca\n",
      " La Fiscalía confirmó este miércoles que obtuvo elementos materiales de prueba que dan cuenta de supuestas irregularidades en un contrato de empréstito o préstamo, suscrito el 5 de diciembre de 2013, entre el departamento de Antioquia y el Banco CorpBanca S.A.\n",
      "          \n",
      "Diez años de la muerte de Osama bin Laden: ¿Qué pasó con Al Qaeda?\n",
      " ¿Qué pasó con Al Qaeda 10 años después de la desaparición de Osama bin Laden? Aunque la red terrorista fue eclipsada por el Estado Islámico, aún está activa y se ha expandido hasta convertirse en una estructura yihadista global.\n",
      "          \n",
      "Los alimentos ya empezaron a escasear en Bucaramanga\n",
      " Para los comerciantes de alimentos, si el paro continúa como hasta el momento es preocupante la situación de aprovisionamiento. \n",
      "          \n",
      "Jorge Oñate falleció tras complicaciones asociadas al Covid-19\n",
      " El cantante vallenato Jorge Oñate falleció este 28 de febrero tras perder la batalla contra la Covid-19. Se encontraba internado en el Hospital Pablo Tobón Uribe de Medellín, desde el pasado 23 de febrero.\n",
      "          \n",
      "Supuesto “fraude” electoral en Perú pierde asidero en jurados\n",
      " Para hoy está convocada una manifestación en Lima que se prevé masiva en apoyo a Pedro Castillo y en respuesta a las marchas de seguidores de Keiko Fujimori, que salieron a las calles días atrás alegando supuesto fraude.\n",
      "          \n",
      "MinSalud publicó decreto para regulación de compra de vacunas por privados\n",
      " El Ministro de Salud, Fernando Ruíz, compartió el Decreto 660 que reglamenta las alianzas estratégicas para adquisición de vacunas contra el COVID-19 por parte de privados.\n",
      "          \n",
      "Colombia se acerca a la triste cifra de los 100.000 muertos por COVID-19\n",
      " La pandemia del COVID-19 tomó mayor fuerza en Colombia en el último mes y llevó las cifras de contagios y muertes a un nivel preocupante, tanto para las autoridades como para la población, porque el país está muy cerca de llegar a los 4 millones de casos y los 100.000 fallecidos.\n",
      "          \n",
      "61 fallecidos por COVID-19 en Santander, nueva cifra récord\n",
      " Este viernes Santander volvió a romper su propio récord de personas fallecidas por COVID-19 reportadas en un día.\n",
      "          \n",
      "Comienza recolección de firmas para revocatoria del mandato de Juan Carlos Cárdenas\n",
      " Tras la designación por parte del Gobierno Nacional de Silvia Corzo, como alcaldesa ad hoc para vigilar el proceso de recolección de firmas de revocatoria del mandato de Juan Carlos Cárdenas como alcalde de Bucaramanga, el comité promotor del mecanismo de participación ya recibió el formulario para recolectar las rúbricas.\n",
      "          \n",
      "Índice de confianza comercial mejoró con 6,9 puntos en mayo ubicándose en 32,5 %\n",
      " Fedesarrollo, liderada por Luis Fernando Mejía, publicó los resultados de la Encuesta de Opinión Empresarial, en el que el Índice de Confianza Comercial (Icco) y el Índice de Confianza Industrial para el mes de mayo, frente abril. Ambos indicadores muestran una mejora ligera en abril, que responde a las expectativas para el segundo semestre.\n",
      "          \n",
      "Los efectos de la reducción a 42 horas semanales de trabajo\n",
      " Además de la disminución progresiva de la jornada laboral, la Ley dispone que no se podrán disminuir salarios y que aplicará para trabajadores del sector público y privado.\n",
      "          \n",
      "Redada contra alias ‘Otoniel’: ¿Qué tan cercan están de su captura?\n",
      " El ‘Clan del Golfo’ además de ser noticia por su actividad criminal, en los últimos días también ha sonado gracias al despliegue que está realizando la fuerza pública para cercar a esta organización delincuencial y a su máximo jefe, alias ‘Otoniel’.\n",
      "          \n",
      "Sí habrá elecciones atípicas en Girón a pesar de la pandemia\n",
      " El Juzgado Cuarto Administrativo Municipal de Bucaramanga negó por improcedente la acción de tutela que buscaba suspender las elecciones atípicas que se celebrarán mañana, 20 de junio, en Girón para elegir alcalde.\n",
      "          \n",
      "Reforma constitucional que recorta vacaciones de congresistas avanza en el Senado\n",
      " El proyecto de reforma constitucional por medio del cual se recorta el periodo de descanso de los congresistas en un mes, fue aprobado el viernes por la plenaria del Senado, con lo cual logró su primera vuelta.\n",
      "          \n",
      "Un joven se disparó con un arma traumática en el barrio Diamante 2\n",
      " Tal parece que al joven de 21 años lo agobiaban algunos problemas sentimentales y personales y, confundido, se habría disparado con un arma no letal cuando transitaba por esa zona. \n",
      "          \n",
      "Mañana se realizará el cuarto ‘Mercatón Campesino en Bucaramanga’\n",
      " Este sábado cerca de 11 campesinos de diferentes veredas y municipios de Santander, se reunirán desde las 7:00 de la mañana en la calle de los estudiantes para vender sus productos.\n",
      "          \n",
      "La afeitadora de Wahl que pasó la prueba de un barbero en Bucaramanga\n",
      " Atrévase a experimentar la recortadora recargable Groomsman T-Pro de Wahl, un producto versátil, a precio accesible y de excelente calidad para el cuidado de la barba y pelo. En este review de Tienda Vanguardia pusimos a prueba la calidad de esta máquina. \n",
      "          \n",
      "¿“Positivo” para niño grande? Este test le ayuda a saberlo\n",
      " Hay ciertas preferencias por cosas o actividades que tienen los papás, las cuales a todos evocan el niño que llevan dentro. Por eso, si se trata de escoger el regalo ideal para ellos, este artículo lo puede orientar. \n",
      "          \n"
     ]
    }
   ],
   "source": [
    "for l in  links:\n",
    "    response = requests.get(URL + l)\n",
    "    if response.status_code == 200:        \n",
    "        response.encoding = 'utf-8'\n",
    "        soup = bs4.BeautifulSoup(response.text, 'html.parser')\n",
    "        \n",
    "        title = soup.select('h1[class=\"headline font-1 bold mainheadlineart\"]')[-1]\n",
    "        summary = soup.select('div[class=\"subheadline font-1 bold lead\"]')[0]\n",
    "\n",
    "        print(title.text.strip())\n",
    "        print(summary.text)        \n",
    "        \n",
    "    else:\n",
    "        continue"
   ]
  },
  {
   "cell_type": "code",
   "execution_count": null,
   "metadata": {},
   "outputs": [],
   "source": []
  }
 ]
}