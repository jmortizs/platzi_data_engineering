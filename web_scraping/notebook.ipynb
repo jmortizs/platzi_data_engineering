{
 "metadata": {
  "language_info": {
   "codemirror_mode": {
    "name": "ipython",
    "version": 3
   },
   "file_extension": ".py",
   "mimetype": "text/x-python",
   "name": "python",
   "nbconvert_exporter": "python",
   "pygments_lexer": "ipython3",
   "version": "3.8.10"
  },
  "orig_nbformat": 4,
  "kernelspec": {
   "name": "python3",
   "display_name": "Python 3.8.10 64-bit ('pltz_ds': conda)"
  },
  "interpreter": {
   "hash": "7548efba2d9cf051069d3fd5d0565922766956e3581b055a06bf433ce8954d79"
  }
 },
 "nbformat": 4,
 "nbformat_minor": 2,
 "cells": [
  {
   "source": [
    "## First steps"
   ],
   "cell_type": "markdown",
   "metadata": {}
  },
  {
   "cell_type": "code",
   "execution_count": 1,
   "metadata": {},
   "outputs": [],
   "source": [
    "import requests\n",
    "import bs4\n",
    "\n",
    "response = requests.get('https://www.platzi.com')"
   ]
  },
  {
   "cell_type": "code",
   "execution_count": 2,
   "metadata": {},
   "outputs": [],
   "source": [
    "soup = bs4.BeautifulSoup(response.text, 'html.parser')"
   ]
  },
  {
   "cell_type": "code",
   "execution_count": 3,
   "metadata": {},
   "outputs": [
    {
     "output_type": "stream",
     "name": "stdout",
     "text": [
      "Desarrollo Web: /web/\nJavaScript: /escuela-javascript/\nInglés: /idioma-ingles/\nMarketing Digital: /marketing-digital/\nPublicidad Digital: /publicidad/\nStartups: /startups/\nPeriodismo Digital: /periodismo-digital/\nProduct Design: /diseno-producto/\nVideojuegos: /videojuegos/\nBusiness Management: /negocios/\nE-Commerce y Negocios Digitales: /ecommerce/\nFinanzas e Inversiones: /finanzas/\nCloud Computing con Azure: /azure/\nMatemáticas: /matematicas/\nData Science: /datos/\nDiseño Gráfico: /diseno-grafico/\nBlockchain y Criptomonedas: /blockchain-criptomonedas/\nProducción Audiovisual: /produccion-video/\nProgramación y Desarrollo de Software: /software/\nHabilidades Blandas: /habilidades-blandas/\n"
     ]
    }
   ],
   "source": [
    "for school in soup.select('.SchoolsList-school'):\n",
    "    school_name = school.findChild('strong').text\n",
    "    school_link = school['href']\n",
    "    print(f'{school_name}: {school_link}')"
   ]
  },
  {
   "source": [
    "## News scraping\n",
    "Goal: Obtain the title and summary of a news list from a local news site."
   ],
   "cell_type": "markdown",
   "metadata": {}
  },
  {
   "cell_type": "code",
   "execution_count": 4,
   "metadata": {},
   "outputs": [],
   "source": [
    "URL = 'https://www.vanguardia.com'\n",
    "response = requests.get(URL)\n",
    "response.encoding = 'utf-8'\n",
    "soup = bs4.BeautifulSoup(response.text, 'html.parser')"
   ]
  },
  {
   "cell_type": "code",
   "execution_count": 5,
   "metadata": {},
   "outputs": [],
   "source": [
    "links = []\n",
    "for notice in soup.select('.article.element.no-access.restricted'):\n",
    "    try:        \n",
    "        links.append(notice.findChildren('a')[-1]['href'])\n",
    "    except IndexError as e:\n",
    "        continue"
   ]
  },
  {
   "cell_type": "code",
   "execution_count": 6,
   "metadata": {},
   "outputs": [
    {
     "output_type": "stream",
     "name": "stdout",
     "text": [
      "Así ofrecen parcelas sin permisos en zona de páramo de Berlín\n",
      " En el corregimiento de Berlín están vendiendo parcelas de 2.500 metros cuadrados sin licencias o permisos. Desde la Alcaldía de Tona confirmaron que el loteo en esta zona del páramo no está permitida. Cdmb tiene en la mira 11 proyectos. Conozca lo que dijeron tres empresas al ser confrontadas por la Unidad Investigativa de Vanguardia.\n",
      "          \n",
      "Proyecto vial Valle de San José - Ocamonte no llegará los 3,5 kilómetros\n",
      " La obra que inicialmente tenía un alcance de 3,5 kilómetros, apenas alcanzará los 2,7 kilómetros aproximadamente. En la última visita hecha esta semana por el personero local, Jaime Alexander Hernández, se le confirmó que no se llegará a la longitud prevista.\n",
      "          \n",
      "Egan Bernal nos da un ‘Giro’ de Esperanza\n",
      " En momentos sociales difíciles para Colombia, el ciclista Egan Bernal manda una sonrisa a sus compatriotas y aporta más luz a ese glorioso pasado con el quinto gran título nacional en las grandes, y el segundo en el Giro.\n",
      "          \n",
      "Fiscalía imputará cargos a Fajardo por contrato con Corpbanca\n",
      " La Fiscalía confirmó este miércoles que obtuvo elementos materiales de prueba que dan cuenta de supuestas irregularidades en un contrato de empréstito o préstamo, suscrito el 5 de diciembre de 2013, entre el departamento de Antioquia y el Banco CorpBanca S.A.\n",
      "          \n"
     ]
    }
   ],
   "source": [
    "for l in links:\n",
    "    response = requests.get(URL + l)\n",
    "    if response.status_code == 200:        \n",
    "        response.encoding = 'utf-8'\n",
    "        soup = bs4.BeautifulSoup(response.text, 'html.parser')\n",
    "        \n",
    "        title = soup.select('h1[class=\"headline font-1 bold mainheadlineart\"]')[-1]\n",
    "        summary = soup.select('div[class=\"subheadline font-1 bold lead\"]')[0]\n",
    "\n",
    "        print(title.text.strip())\n",
    "        print(summary.text)                \n",
    "        \n",
    "    else:\n",
    "        continue"
   ]
  },
  {
   "cell_type": "code",
   "execution_count": null,
   "metadata": {},
   "outputs": [],
   "source": []
  }
 ]
}